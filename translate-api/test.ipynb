{
 "cells": [
  {
   "cell_type": "code",
   "execution_count": 1,
   "metadata": {
    "collapsed": true
   },
   "outputs": [],
   "source": [
    "import api"
   ]
  },
  {
   "cell_type": "code",
   "execution_count": 2,
   "outputs": [],
   "source": [
    "query = 'hola'"
   ],
   "metadata": {
    "collapsed": false,
    "pycharm": {
     "name": "#%%\n"
    }
   }
  },
  {
   "cell_type": "markdown",
   "source": [
    "# 翻译接口测试"
   ],
   "metadata": {
    "collapsed": false,
    "pycharm": {
     "name": "#%% md\n"
    }
   }
  },
  {
   "cell_type": "code",
   "source": [
    "api.baidu(query, f='spa', to='zh')"
   ],
   "metadata": {
    "collapsed": false,
    "pycharm": {
     "name": "#%%\n"
    }
   },
   "execution_count": null,
   "outputs": []
  },
  {
   "cell_type": "code",
   "execution_count": 4,
   "outputs": [
    {
     "data": {
      "text/plain": "'你好'"
     },
     "execution_count": 4,
     "metadata": {},
     "output_type": "execute_result"
    }
   ],
   "source": [
    "api.youdao(query, f='es', to='zh-CHS')"
   ],
   "metadata": {
    "collapsed": false,
    "pycharm": {
     "name": "#%%\n"
    }
   }
  },
  {
   "cell_type": "code",
   "execution_count": 5,
   "outputs": [
    {
     "data": {
      "text/plain": "'喂'"
     },
     "execution_count": 5,
     "metadata": {},
     "output_type": "execute_result"
    }
   ],
   "source": [
    "api.aiciba(query, f='es', to='zh')"
   ],
   "metadata": {
    "collapsed": false,
    "pycharm": {
     "name": "#%%\n"
    }
   }
  },
  {
   "cell_type": "code",
   "execution_count": 6,
   "outputs": [
    {
     "data": {
      "text/plain": "'你好'"
     },
     "execution_count": 6,
     "metadata": {},
     "output_type": "execute_result"
    }
   ],
   "source": [
    "api.__360(query)"
   ],
   "metadata": {
    "collapsed": false,
    "pycharm": {
     "name": "#%%\n"
    }
   }
  },
  {
   "cell_type": "markdown",
   "source": [
    "# 获取语种对照表"
   ],
   "metadata": {
    "collapsed": false,
    "pycharm": {
     "name": "#%% md\n"
    }
   }
  },
  {
   "cell_type": "code",
   "execution_count": 7,
   "outputs": [
    {
     "data": {
      "text/plain": "       code   label alphabet\n0    zh-CHS      中文        Z\n1        en      英语        Y\n2        ja      日语        R\n3        ko      韩语        H\n4        fr      法语        F\n..      ...     ...      ...\n109     yua  尤卡坦玛雅语        Y\n110      yo    约鲁巴语        Y\n111      vi     越南语        Y\n112  zh-CHS      中文        Z\n113  zh-CHT  中文(繁体)        Z\n\n[114 rows x 3 columns]",
      "text/html": "<div>\n<style scoped>\n    .dataframe tbody tr th:only-of-type {\n        vertical-align: middle;\n    }\n\n    .dataframe tbody tr th {\n        vertical-align: top;\n    }\n\n    .dataframe thead th {\n        text-align: right;\n    }\n</style>\n<table border=\"1\" class=\"dataframe\">\n  <thead>\n    <tr style=\"text-align: right;\">\n      <th></th>\n      <th>code</th>\n      <th>label</th>\n      <th>alphabet</th>\n    </tr>\n  </thead>\n  <tbody>\n    <tr>\n      <th>0</th>\n      <td>zh-CHS</td>\n      <td>中文</td>\n      <td>Z</td>\n    </tr>\n    <tr>\n      <th>1</th>\n      <td>en</td>\n      <td>英语</td>\n      <td>Y</td>\n    </tr>\n    <tr>\n      <th>2</th>\n      <td>ja</td>\n      <td>日语</td>\n      <td>R</td>\n    </tr>\n    <tr>\n      <th>3</th>\n      <td>ko</td>\n      <td>韩语</td>\n      <td>H</td>\n    </tr>\n    <tr>\n      <th>4</th>\n      <td>fr</td>\n      <td>法语</td>\n      <td>F</td>\n    </tr>\n    <tr>\n      <th>...</th>\n      <td>...</td>\n      <td>...</td>\n      <td>...</td>\n    </tr>\n    <tr>\n      <th>109</th>\n      <td>yua</td>\n      <td>尤卡坦玛雅语</td>\n      <td>Y</td>\n    </tr>\n    <tr>\n      <th>110</th>\n      <td>yo</td>\n      <td>约鲁巴语</td>\n      <td>Y</td>\n    </tr>\n    <tr>\n      <th>111</th>\n      <td>vi</td>\n      <td>越南语</td>\n      <td>Y</td>\n    </tr>\n    <tr>\n      <th>112</th>\n      <td>zh-CHS</td>\n      <td>中文</td>\n      <td>Z</td>\n    </tr>\n    <tr>\n      <th>113</th>\n      <td>zh-CHT</td>\n      <td>中文(繁体)</td>\n      <td>Z</td>\n    </tr>\n  </tbody>\n</table>\n<p>114 rows × 3 columns</p>\n</div>"
     },
     "execution_count": 7,
     "metadata": {},
     "output_type": "execute_result"
    }
   ],
   "source": [
    "api.youdao_f()"
   ],
   "metadata": {
    "collapsed": false,
    "pycharm": {
     "name": "#%%\n"
    }
   }
  },
  {
   "cell_type": "code",
   "execution_count": 8,
   "outputs": [
    {
     "data": {
      "text/plain": "         语言   字母\n0        中文   zh\n1        英语   en\n2        法语   fr\n3        日语   ja\n4        韩语   ko\n..      ...  ...\n189      藏语   ti\n190    哲尔马语  dje\n191      中文   zh\n192  中文(繁体)  cht\n193     宗喀语   dz\n\n[194 rows x 2 columns]",
      "text/html": "<div>\n<style scoped>\n    .dataframe tbody tr th:only-of-type {\n        vertical-align: middle;\n    }\n\n    .dataframe tbody tr th {\n        vertical-align: top;\n    }\n\n    .dataframe thead th {\n        text-align: right;\n    }\n</style>\n<table border=\"1\" class=\"dataframe\">\n  <thead>\n    <tr style=\"text-align: right;\">\n      <th></th>\n      <th>语言</th>\n      <th>字母</th>\n    </tr>\n  </thead>\n  <tbody>\n    <tr>\n      <th>0</th>\n      <td>中文</td>\n      <td>zh</td>\n    </tr>\n    <tr>\n      <th>1</th>\n      <td>英语</td>\n      <td>en</td>\n    </tr>\n    <tr>\n      <th>2</th>\n      <td>法语</td>\n      <td>fr</td>\n    </tr>\n    <tr>\n      <th>3</th>\n      <td>日语</td>\n      <td>ja</td>\n    </tr>\n    <tr>\n      <th>4</th>\n      <td>韩语</td>\n      <td>ko</td>\n    </tr>\n    <tr>\n      <th>...</th>\n      <td>...</td>\n      <td>...</td>\n    </tr>\n    <tr>\n      <th>189</th>\n      <td>藏语</td>\n      <td>ti</td>\n    </tr>\n    <tr>\n      <th>190</th>\n      <td>哲尔马语</td>\n      <td>dje</td>\n    </tr>\n    <tr>\n      <th>191</th>\n      <td>中文</td>\n      <td>zh</td>\n    </tr>\n    <tr>\n      <th>192</th>\n      <td>中文(繁体)</td>\n      <td>cht</td>\n    </tr>\n    <tr>\n      <th>193</th>\n      <td>宗喀语</td>\n      <td>dz</td>\n    </tr>\n  </tbody>\n</table>\n<p>194 rows × 2 columns</p>\n</div>"
     },
     "execution_count": 8,
     "metadata": {},
     "output_type": "execute_result"
    }
   ],
   "source": [
    "api.aiciba_f()"
   ],
   "metadata": {
    "collapsed": false,
    "pycharm": {
     "name": "#%%\n"
    }
   }
  }
 ],
 "metadata": {
  "kernelspec": {
   "display_name": "Python 3",
   "language": "python",
   "name": "python3"
  },
  "language_info": {
   "codemirror_mode": {
    "name": "ipython",
    "version": 2
   },
   "file_extension": ".py",
   "mimetype": "text/x-python",
   "name": "python",
   "nbconvert_exporter": "python",
   "pygments_lexer": "ipython2",
   "version": "2.7.6"
  }
 },
 "nbformat": 4,
 "nbformat_minor": 0
}